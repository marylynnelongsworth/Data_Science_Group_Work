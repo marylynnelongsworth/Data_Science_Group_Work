{
 "cells": [
  {
   "cell_type": "markdown",
   "metadata": {},
   "source": [
    "## 1. Using the KNN example from class, write a function that finds the optimal value for k. You should iterate over a range of values and return the k and the score when the accuracy score is maximized."
   ]
  },
  {
   "cell_type": "markdown",
   "metadata": {},
   "source": [
    "### ** Question: while 14 was the answer from Wednesday's notes (see copy of original code at the end), my optimal value for K was returning as a 5  with an accuracy score of  0.742188\n",
    "\n",
    "### *** Is this right? I'm utterly baffled, and have added a return of the full data frame"
   ]
  },
  {
   "cell_type": "code",
   "execution_count": 107,
   "metadata": {},
   "outputs": [
    {
     "name": "stdout",
     "output_type": "stream",
     "text": [
      "   K  Test Score\n",
      "4  5    0.742188\n"
     ]
    }
   ],
   "source": [
    "import numpy as np\n",
    "import pandas as pd\n",
    "import matplotlib.pyplot as plt\n",
    "import seaborn as sns\n",
    "\n",
    "from sklearn.neighbors import KNeighborsClassifier\n",
    "from sklearn.linear_model import LinearRegression\n",
    "from sklearn.metrics import r2_score\n",
    "from sklearn.preprocessing import StandardScaler\n",
    "from sklearn.model_selection import train_test_split\n",
    "\n",
    "# Import Diabetes Data\n",
    "diabetes_df = pd.read_csv(\"diabetes.csv\")\n",
    "\n",
    "# Start up the Function\n",
    "def k_number(db_df):\n",
    "    \n",
    "    # Pull out the Outcome column to create the X, y split\n",
    "    X = db_df.drop('Outcome', axis=1)\n",
    "    y = db_df['Outcome']\n",
    "\n",
    "    # Split data into training and test sets\n",
    "    X_train, X_test, y_train, y_test = train_test_split(X, y, test_size=0.5, random_state=45)\n",
    "\n",
    "    # Standardize the scaling for easier comparison\n",
    "    sc = StandardScaler()\n",
    "    X_train = sc.fit_transform(X_train)\n",
    "    X_test = sc.fit_transform(X_test)\n",
    "    \n",
    "    # Make a list of the scores\n",
    "    knn_i_nums = []\n",
    "    \n",
    "    # Looping through a range to get K as nearest neighbors, and the test score\n",
    "    for i in range(1,25):\n",
    "        knn = KNeighborsClassifier(n_neighbors=i)\n",
    "        knn.fit(X_train,y_train)\n",
    "        y_predicted = knn.predict(X_test)\n",
    "        test_score = knn.score(X_test,y_test)\n",
    "        knn_i_nums.append((i, test_score))\n",
    "\n",
    "    # Turning the list of scores into a dataframe to pull the maximum test score and it's adjoining K number\n",
    "    df = pd.DataFrame(knn_i_nums, columns=['K','Test Score'])\n",
    "    print(df[df['Test Score'] == df['Test Score'].max()])                          \n",
    "\n",
    "k_number(diabetes_df)"
   ]
  },
  {
   "cell_type": "code",
   "execution_count": 108,
   "metadata": {},
   "outputs": [
    {
     "name": "stdout",
     "output_type": "stream",
     "text": [
      "     K  Test Score\n",
      "0    1    0.695312\n",
      "1    2    0.705729\n",
      "2    3    0.736979\n",
      "3    4    0.710938\n",
      "4    5    0.742188\n",
      "5    6    0.729167\n",
      "6    7    0.713542\n",
      "7    8    0.713542\n",
      "8    9    0.721354\n",
      "9   10    0.716146\n",
      "10  11    0.726562\n",
      "11  12    0.703125\n",
      "12  13    0.708333\n",
      "13  14    0.705729\n",
      "14  15    0.716146\n",
      "15  16    0.713542\n",
      "16  17    0.723958\n",
      "17  18    0.713542\n",
      "18  19    0.721354\n",
      "19  20    0.716146\n",
      "20  21    0.726562\n",
      "21  22    0.731771\n",
      "22  23    0.726562\n",
      "23  24    0.726562\n"
     ]
    }
   ],
   "source": [
    "# Make a list of the scores\n",
    "knn_i_nums = []\n",
    "    \n",
    "# Looping through a range to get K as nearest neighbors, and the test score\n",
    "for i in range(1,25):\n",
    "    knn = KNeighborsClassifier(n_neighbors=i)\n",
    "    knn.fit(X_train,y_train)\n",
    "    y_predicted = knn.predict(X_test)\n",
    "    test_score = knn.score(X_test,y_test)\n",
    "    knn_i_nums.append((i, test_score))\n",
    "\n",
    "    # Turning the list of scores into a dataframe to pull the maximum test score and it's adjoining K number\n",
    "df = pd.DataFrame(knn_i_nums, columns=['K','Test Score'])\n",
    "  \n",
    "print(df)"
   ]
  },
  {
   "cell_type": "markdown",
   "metadata": {},
   "source": [
    "### Original Code from Wednesday's Notes"
   ]
  },
  {
   "cell_type": "code",
   "execution_count": 3,
   "metadata": {},
   "outputs": [
    {
     "name": "stdout",
     "output_type": "stream",
     "text": [
      "[0 0 0 0 0 0 0 0 0 0 1 0 0 0 0 0 1 0 1 0 1 0 0 0 0 1 0 1 1 0 0 0 0 0 0 0 0\n",
      " 0 0 0 0 0 0 0 0 0 0 0 0 0 0 1 1 0 0 0 0 0 0 1 0 0 0 0 0 0 0 0 0 0 0 0 0 0\n",
      " 0 0 0 0 0 0 0 0 1 0 1 0 0 0 0 0 0 0 0 0 0 1 1 0 0 0 1 0 1 1 0 0 0 0 1 1 0\n",
      " 0 0 1 0 0 0 1 0 0 0 0 0 0 0 0 0 0 0 0 0 0 0 0 0 1 0 0 0 1 0 1 0 0 1 0 0 0\n",
      " 0 0 0 1 0 0 0 0 0 0 0 0 1 0 0 0 0 0 0 0 1 0 0 1 0 0 0 0 0 1 0 0 0 0 0 0 1\n",
      " 0 1 0 0 0 0 0 0 0 0 0 0 0 0 1 0 0 0 0 0 0 0 0 0 0 0 1 0 0 0 0 1 0 0 0 0 1\n",
      " 0 0 1 0 0 0 0 0 1 0 0 0 0 0 0 0 0 0 0 1 0 0 0 0 1 0 0 0 0 1 0 0 0 0 0 0 0\n",
      " 0 0 0 1 1 0 0 0 1 0 1 1 0 0 1 1 0 0 0 0 0 0 0 0 0 0 1 0 0 1 0 0 0 0 0 0 0\n",
      " 0 0 0 0 0 0 1 0 1 1 0 0 0 0 0 0 1 0 0 0 0 0 0 1 0 0 0 1 0 0 0 1 0 0 0 0 1\n",
      " 0 0 0 0 0 0 0 0 0 1 0 0 0 0 0 0 0 1 0 0 0 0 0 0 0 0 0 1 0 1 0 0 0 1 0 0 0\n",
      " 0 1 0 0 1 0 1 0 0 0 0 0 1 0]\n"
     ]
    }
   ],
   "source": [
    "import numpy as np\n",
    "import pandas as pd\n",
    "import matplotlib.pyplot as plt\n",
    "import seaborn as sns\n",
    "\n",
    "from sklearn.neighbors import KNeighborsClassifier\n",
    "from sklearn.linear_model import LinearRegression\n",
    "from sklearn.metrics import r2_score\n",
    "from sklearn.preprocessing import StandardScaler\n",
    "from sklearn.model_selection import train_test_split\n",
    "\n",
    "# Import Diabetes Data\n",
    "diabetes_df = pd.read_csv(\"diabetes.csv\")\n",
    "\n",
    "X = diabetes_df.drop('Outcome', axis=1)\n",
    "y = diabetes_df['Outcome']\n",
    "\n",
    "#split data into training and test set\n",
    "X_train, X_test, y_train, y_test = train_test_split(X, y, test_size=0.5, random_state=45)\n",
    "\n",
    "#Standardization\n",
    "from sklearn.preprocessing import StandardScaler\n",
    "sc = StandardScaler()\n",
    "X_train = sc.fit_transform(X_train)\n",
    "X_test = sc.fit_transform(X_test)\n",
    "\n",
    "knn = KNeighborsClassifier(n_neighbors=14)\n",
    "\n",
    "knn.fit(X_train,y_train)\n",
    "y_predicted = knn.predict(X_test)\n",
    "print(y_predicted)"
   ]
  },
  {
   "cell_type": "code",
   "execution_count": 4,
   "metadata": {},
   "outputs": [
    {
     "name": "stdout",
     "output_type": "stream",
     "text": [
      "0.7057291666666666\n"
     ]
    }
   ],
   "source": [
    "print(knn.score(X_test, y_test))"
   ]
  }
 ],
 "metadata": {
  "kernelspec": {
   "display_name": "Python 3",
   "language": "python",
   "name": "python3"
  },
  "language_info": {
   "codemirror_mode": {
    "name": "ipython",
    "version": 3
   },
   "file_extension": ".py",
   "mimetype": "text/x-python",
   "name": "python",
   "nbconvert_exporter": "python",
   "pygments_lexer": "ipython3",
   "version": "3.8.5"
  }
 },
 "nbformat": 4,
 "nbformat_minor": 4
}

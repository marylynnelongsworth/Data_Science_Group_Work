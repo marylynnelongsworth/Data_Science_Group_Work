{
 "cells": [
  {
   "cell_type": "markdown",
   "metadata": {},
   "source": [
    "# Week_08_In-Class_Work"
   ]
  },
  {
   "cell_type": "code",
   "execution_count": 38,
   "metadata": {},
   "outputs": [
    {
     "data": {
      "text/html": [
       "<div>\n",
       "<style scoped>\n",
       "    .dataframe tbody tr th:only-of-type {\n",
       "        vertical-align: middle;\n",
       "    }\n",
       "\n",
       "    .dataframe tbody tr th {\n",
       "        vertical-align: top;\n",
       "    }\n",
       "\n",
       "    .dataframe thead th {\n",
       "        text-align: right;\n",
       "    }\n",
       "</style>\n",
       "<table border=\"1\" class=\"dataframe\">\n",
       "  <thead>\n",
       "    <tr style=\"text-align: right;\">\n",
       "      <th></th>\n",
       "      <th>id</th>\n",
       "      <th>name</th>\n",
       "      <th>host_id</th>\n",
       "      <th>host_name</th>\n",
       "      <th>neighbourhood_group</th>\n",
       "      <th>neighbourhood</th>\n",
       "      <th>latitude</th>\n",
       "      <th>longitude</th>\n",
       "      <th>room_type</th>\n",
       "      <th>price</th>\n",
       "      <th>minimum_nights</th>\n",
       "      <th>number_of_reviews</th>\n",
       "      <th>last_review</th>\n",
       "      <th>reviews_per_month</th>\n",
       "      <th>calculated_host_listings_count</th>\n",
       "      <th>availability_365</th>\n",
       "    </tr>\n",
       "  </thead>\n",
       "  <tbody>\n",
       "    <tr>\n",
       "      <th>0</th>\n",
       "      <td>36666</td>\n",
       "      <td>Mo's Cozy Casa w/ veranda &amp; access to dock</td>\n",
       "      <td>157752</td>\n",
       "      <td>Monique</td>\n",
       "      <td>Belize</td>\n",
       "      <td>Belize Islands</td>\n",
       "      <td>17.74786</td>\n",
       "      <td>-88.02398</td>\n",
       "      <td>Entire home/apt</td>\n",
       "      <td>141</td>\n",
       "      <td>3</td>\n",
       "      <td>250</td>\n",
       "      <td>2/23/2021</td>\n",
       "      <td>2.00</td>\n",
       "      <td>5</td>\n",
       "      <td>225</td>\n",
       "    </tr>\n",
       "    <tr>\n",
       "      <th>1</th>\n",
       "      <td>36690</td>\n",
       "      <td>Mo's Cozy Cabana w/ comfy veranda &amp; access to ...</td>\n",
       "      <td>157752</td>\n",
       "      <td>Monique</td>\n",
       "      <td>Belize</td>\n",
       "      <td>Belize Islands</td>\n",
       "      <td>17.74832</td>\n",
       "      <td>-88.02474</td>\n",
       "      <td>Entire home/apt</td>\n",
       "      <td>71</td>\n",
       "      <td>3</td>\n",
       "      <td>316</td>\n",
       "      <td>2/19/2021</td>\n",
       "      <td>2.46</td>\n",
       "      <td>5</td>\n",
       "      <td>164</td>\n",
       "    </tr>\n",
       "    <tr>\n",
       "      <th>2</th>\n",
       "      <td>108932</td>\n",
       "      <td>Purple House eco solar  w/ ocean &amp; wildlife views</td>\n",
       "      <td>563377</td>\n",
       "      <td>Michael</td>\n",
       "      <td>Belize</td>\n",
       "      <td>Belize Islands</td>\n",
       "      <td>17.73221</td>\n",
       "      <td>-88.03824</td>\n",
       "      <td>Entire home/apt</td>\n",
       "      <td>191</td>\n",
       "      <td>2</td>\n",
       "      <td>30</td>\n",
       "      <td>3/14/2020</td>\n",
       "      <td>0.78</td>\n",
       "      <td>1</td>\n",
       "      <td>364</td>\n",
       "    </tr>\n",
       "    <tr>\n",
       "      <th>3</th>\n",
       "      <td>110483</td>\n",
       "      <td>Michelo's fuchsia suite</td>\n",
       "      <td>567809</td>\n",
       "      <td>Michel</td>\n",
       "      <td>Stann Creek</td>\n",
       "      <td>Stann Creek Mainland</td>\n",
       "      <td>16.52114</td>\n",
       "      <td>-88.36926</td>\n",
       "      <td>Hotel room</td>\n",
       "      <td>121</td>\n",
       "      <td>1</td>\n",
       "      <td>27</td>\n",
       "      <td>2/24/2020</td>\n",
       "      <td>0.29</td>\n",
       "      <td>3</td>\n",
       "      <td>331</td>\n",
       "    </tr>\n",
       "    <tr>\n",
       "      <th>4</th>\n",
       "      <td>120115</td>\n",
       "      <td>Seaside Villas Second Floor Unit  #4</td>\n",
       "      <td>604999</td>\n",
       "      <td>Bobbi</td>\n",
       "      <td>Belize</td>\n",
       "      <td>Belize Islands</td>\n",
       "      <td>17.74166</td>\n",
       "      <td>-88.02395</td>\n",
       "      <td>Entire home/apt</td>\n",
       "      <td>343</td>\n",
       "      <td>1</td>\n",
       "      <td>30</td>\n",
       "      <td>3/18/2020</td>\n",
       "      <td>0.64</td>\n",
       "      <td>22</td>\n",
       "      <td>203</td>\n",
       "    </tr>\n",
       "  </tbody>\n",
       "</table>\n",
       "</div>"
      ],
      "text/plain": [
       "       id                                               name  host_id  \\\n",
       "0   36666         Mo's Cozy Casa w/ veranda & access to dock   157752   \n",
       "1   36690  Mo's Cozy Cabana w/ comfy veranda & access to ...   157752   \n",
       "2  108932  Purple House eco solar  w/ ocean & wildlife views   563377   \n",
       "3  110483                            Michelo's fuchsia suite   567809   \n",
       "4  120115               Seaside Villas Second Floor Unit  #4   604999   \n",
       "\n",
       "  host_name neighbourhood_group         neighbourhood  latitude  longitude  \\\n",
       "0   Monique              Belize        Belize Islands  17.74786  -88.02398   \n",
       "1   Monique              Belize        Belize Islands  17.74832  -88.02474   \n",
       "2   Michael              Belize        Belize Islands  17.73221  -88.03824   \n",
       "3    Michel         Stann Creek  Stann Creek Mainland  16.52114  -88.36926   \n",
       "4     Bobbi              Belize        Belize Islands  17.74166  -88.02395   \n",
       "\n",
       "         room_type  price  minimum_nights  number_of_reviews last_review  \\\n",
       "0  Entire home/apt    141               3                250   2/23/2021   \n",
       "1  Entire home/apt     71               3                316   2/19/2021   \n",
       "2  Entire home/apt    191               2                 30   3/14/2020   \n",
       "3       Hotel room    121               1                 27   2/24/2020   \n",
       "4  Entire home/apt    343               1                 30   3/18/2020   \n",
       "\n",
       "   reviews_per_month  calculated_host_listings_count  availability_365  \n",
       "0               2.00                               5               225  \n",
       "1               2.46                               5               164  \n",
       "2               0.78                               1               364  \n",
       "3               0.29                               3               331  \n",
       "4               0.64                              22               203  "
      ]
     },
     "execution_count": 38,
     "metadata": {},
     "output_type": "execute_result"
    }
   ],
   "source": [
    "#the usual suspects\n",
    "import numpy as np\n",
    "import pandas as pd\n",
    "import matplotlib.pyplot as plt\n",
    "import seaborn as sns\n",
    "\n",
    "#modules for statistics\n",
    "import math\n",
    "import statistics\n",
    "from scipy import stats\n",
    "\n",
    "belize_path = \"belize_airbnb_listings.csv\"  \n",
    "#df = pd.read_csv (r'Path where the CSV file is stored\\File name.csv')\n",
    "\n",
    "belize_df = pd.read_csv(belize_path)\n",
    "belize_df.head()"
   ]
  },
  {
   "cell_type": "markdown",
   "metadata": {},
   "source": [
    "# 1. Lookup information on geometric mean and harmonic mean to answer the following questions:\n",
    "    a. In a jupyter notebook create a markdown section for each of the three concepts:\n",
    "        arithmetic mean, geometric mean, and harmonic mean\n",
    "    b. Write a definition for arithmetic mean, geometric mean, and harmonic mean,\n",
    "        under their respective headings\n",
    "    c. Write a code example for arithmetic mean, geometric mean, and harmonic mean\n",
    "        using the BelizeAirbnb data in a cell under the each respective summary in\n",
    "        markdown"
   ]
  },
  {
   "cell_type": "markdown",
   "metadata": {},
   "source": [
    "## ARITHMETIC MEAN:\n",
    "*   __Definition:__ The average of a set of numbers, or a sum of the set divided by the count of numbers in the set.\n",
    "*   Python Code:  __dataframe.mean()__"
   ]
  },
  {
   "cell_type": "code",
   "execution_count": 2,
   "metadata": {},
   "outputs": [
    {
     "data": {
      "text/plain": [
       "id                                2.792490e+07\n",
       "host_id                           1.240278e+08\n",
       "latitude                          1.744829e+01\n",
       "longitude                        -8.829203e+01\n",
       "price                             3.571023e+02\n",
       "minimum_nights                    2.263948e+00\n",
       "number_of_reviews                 1.445351e+01\n",
       "reviews_per_month                 5.380884e-01\n",
       "calculated_host_listings_count    2.284835e+01\n",
       "availability_365                  2.803155e+02\n",
       "dtype: float64"
      ]
     },
     "execution_count": 2,
     "metadata": {},
     "output_type": "execute_result"
    }
   ],
   "source": [
    "## Arithmetic mean\n",
    "\n",
    "## Code Example: \n",
    "belize_df.mean()"
   ]
  },
  {
   "cell_type": "markdown",
   "metadata": {},
   "source": [
    "## GEOMETRIC MEAN:\n",
    "*   __Definition:__ average taken by multiplying the numbers of a set together and then taking the root of the numbers by the count of the number, example: take a square root (for two numbers), cube root (for three numbers) etc.\n",
    "*   Python Code:  \n",
    "            *  from scipy.stats.mstats import gmean\n",
    "            *  gmean(dataframe['column name'])"
   ]
  },
  {
   "cell_type": "code",
   "execution_count": 3,
   "metadata": {},
   "outputs": [
    {
     "name": "stdout",
     "output_type": "stream",
     "text": [
      "The Geometric Mean is: 234.7347175108817\n"
     ]
    }
   ],
   "source": [
    "## Geometric mean\n",
    "## Code Example:\n",
    "\n",
    "from scipy.stats.mstats import gmean\n",
    "\n",
    "geometricMean = gmean(belize_df['price'])\n",
    "print ('The Geometric Mean is: ' + str(geometricMean)) "
   ]
  },
  {
   "cell_type": "code",
   "execution_count": 4,
   "metadata": {},
   "outputs": [
    {
     "name": "stdout",
     "output_type": "stream",
     "text": [
      "The Geometric Mean is: 16.916852032061655\n"
     ]
    }
   ],
   "source": [
    "## Geometric Mean\n",
    "## Code Example without scypi gmean\n",
    "\n",
    "multiply = 1\n",
    "values = [8,16,22,12,41]\n",
    "n = len(values)\n",
    "\n",
    "for i in values:\n",
    "    multiply = (multiply)*(i)\n",
    "\n",
    "geometricMean = (multiply)**(1/n)\n",
    "print ('The Geometric Mean is: ' + str(geometricMean)) "
   ]
  },
  {
   "cell_type": "code",
   "execution_count": 18,
   "metadata": {},
   "outputs": [
    {
     "ename": "OverflowError",
     "evalue": "int too large to convert to float",
     "output_type": "error",
     "traceback": [
      "\u001b[1;31m---------------------------------------------------------------------------\u001b[0m",
      "\u001b[1;31mOverflowError\u001b[0m                             Traceback (most recent call last)",
      "\u001b[1;32m<ipython-input-18-e2775900d7d1>\u001b[0m in \u001b[0;36m<module>\u001b[1;34m\u001b[0m\n\u001b[0;32m      9\u001b[0m     \u001b[0mmultiply\u001b[0m \u001b[1;33m=\u001b[0m \u001b[1;33m(\u001b[0m\u001b[0mmultiply\u001b[0m\u001b[1;33m)\u001b[0m \u001b[1;33m*\u001b[0m \u001b[1;33m(\u001b[0m\u001b[0mx\u001b[0m\u001b[1;33m)\u001b[0m\u001b[1;33m\u001b[0m\u001b[1;33m\u001b[0m\u001b[0m\n\u001b[0;32m     10\u001b[0m \u001b[1;33m\u001b[0m\u001b[0m\n\u001b[1;32m---> 11\u001b[1;33m \u001b[0mgeometricMean\u001b[0m \u001b[1;33m=\u001b[0m \u001b[1;33m(\u001b[0m\u001b[0mmultiply\u001b[0m\u001b[1;33m)\u001b[0m\u001b[1;33m**\u001b[0m\u001b[1;33m(\u001b[0m\u001b[1;36m1\u001b[0m\u001b[1;33m/\u001b[0m\u001b[0mn\u001b[0m\u001b[1;33m)\u001b[0m\u001b[1;33m\u001b[0m\u001b[1;33m\u001b[0m\u001b[0m\n\u001b[0m\u001b[0;32m     12\u001b[0m \u001b[0mprint\u001b[0m\u001b[1;33m(\u001b[0m\u001b[1;34m'The Geometric Mean is: '\u001b[0m \u001b[1;33m+\u001b[0m \u001b[0mstr\u001b[0m\u001b[1;33m(\u001b[0m\u001b[0mgeometricMean\u001b[0m\u001b[1;33m)\u001b[0m\u001b[1;33m)\u001b[0m\u001b[1;33m\u001b[0m\u001b[1;33m\u001b[0m\u001b[0m\n\u001b[0;32m     13\u001b[0m \u001b[1;33m\u001b[0m\u001b[0m\n",
      "\u001b[1;31mOverflowError\u001b[0m: int too large to convert to float"
     ]
    }
   ],
   "source": [
    "## Geometric Mean\n",
    "## Belize AirBnB without scipi gmean <--- get OverflowError\n",
    "\n",
    "multiply = 1\n",
    "values = belize_df['price']\n",
    "n = len(belize_df['price'])\n",
    "\n",
    "for x in values:\n",
    "    multiply = (multiply) * (x)\n",
    "\n",
    "geometricMean = (multiply)**(1/n)\n",
    "print('The Geometric Mean is: ' + str(geometricMean))\n",
    "\n"
   ]
  },
  {
   "cell_type": "markdown",
   "metadata": {},
   "source": [
    "## HARMONIC MEAN:\n",
    "*   __Definition:__ Definition: the reciprocal of the average of the reciprocals\n",
    "              EXAMPLE: 1, 2, 4, becomes 1/1, 1/2, 1/4 which is 1, 0.5, 0.25 = 1.75 then divide by the count of numbers\n",
    "                       1.75/3, reciprocate it to 3/1.75 which becomes 1.714\n",
    "                       1, 2, 4 = 1/1 + 1/2 + 1/4 = 1 + 0.5 + 0.25 = 1.75  1.75/3 -->\n",
    " *   Python Code:\n",
    "         *  from scipy import stats\n",
    "         *  statistics.harmonic_mean(dataframe['column'])\n"
   ]
  },
  {
   "cell_type": "code",
   "execution_count": 21,
   "metadata": {},
   "outputs": [
    {
     "name": "stdout",
     "output_type": "stream",
     "text": [
      "The Harmonic Mean is: 170.9933850102646\n"
     ]
    }
   ],
   "source": [
    "## Harmonic mean\n",
    "\n",
    "## Code Example:\n",
    "\n",
    "harmonicMean = statistics.harmonic_mean(belize_df['price'])\n",
    "print ('The Harmonic Mean is: ' + str(harmonicMean)) "
   ]
  },
  {
   "cell_type": "markdown",
   "metadata": {},
   "source": [
    "#  2. Use this article to answer the following questions:\n",
    "https://realpython.com/numpy-scipy-pandas-correlation-python/\n",
    "\n",
    "    a. In a jupyter notebook markdown cell, describe the difference between linear and\n",
    "        rank correlation.\n",
    "    b. Create a scatter plot showing the relationship between\n",
    "        calculated_host_listings_count and availability_365 in the Belize Airbnb data\n",
    "    c. Calculate the correlation coefficient for the data in the scatter plot, and describe\n",
    "        what is happening."
   ]
  },
  {
   "cell_type": "markdown",
   "metadata": {},
   "source": [
    "### a. In a jupyter notebook markdown cell, describe the difference between linear and rank correlation.\n",
    "    \n",
    "   __Linear correlation:__ measure of strength of a linear relationship between x and y (a straight line)\n",
    "        *  has interval or ratio level - as the independent variable increases or decreases the function increases or decreases\n",
    "        *  straight line\n",
    "    \n",
    "   __Rank correlation:__ normally measures oridinal values (such as small, medium, large)\n",
    "        *  as the independent variable increases the function neither increases nor decreases in tandem\n",
    "        *  wavey line or curved line"
   ]
  },
  {
   "cell_type": "markdown",
   "metadata": {},
   "source": [
    "### b. Create a scatter plot showing the relationship between calculated_host_listings_count and availability_365 in the Belize Airbnb data"
   ]
  },
  {
   "cell_type": "code",
   "execution_count": 49,
   "metadata": {},
   "outputs": [
    {
     "data": {
      "text/plain": [
       "[<matplotlib.lines.Line2D at 0x165582d96a0>]"
      ]
     },
     "execution_count": 49,
     "metadata": {},
     "output_type": "execute_result"
    },
    {
     "data": {
      "image/png": "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\n",
      "text/plain": [
       "<Figure size 432x288 with 1 Axes>"
      ]
     },
     "metadata": {
      "needs_background": "light"
     },
     "output_type": "display_data"
    }
   ],
   "source": [
    "y = belize_df['calculated_host_listings_count']\n",
    "x = belize_df['availability_365']\n",
    "colors = np.random.rand(2796)\n",
    "\n",
    "plt.scatter(x,y, c = colors)\n",
    "\n",
    "# add the line of best fit we need to do the following\n",
    "plt.plot(np.unique(x), np.poly1d(np.polyfit(x, y, 1))(np.unique(x)), color='black')"
   ]
  },
  {
   "cell_type": "markdown",
   "metadata": {},
   "source": [
    "###  c. Calculate the correlation coefficient for the data in the scatter plot, and describe what is happening.\n",
    " With a 0.17 there is barely a positive association between the amount of times that a host listed their B and B, and the availability of the property. In short, the association, though positive, is very small"
    "print(np.corrcoef(x,y))"
   ]
  }
 ],
 "metadata": {
  "kernelspec": {
   "display_name": "Python 3",
   "language": "python",
   "name": "python3"
  },
  "language_info": {
   "codemirror_mode": {
    "name": "ipython",
    "version": 3
   },
   "file_extension": ".py",
   "mimetype": "text/x-python",
   "name": "python",
   "nbconvert_exporter": "python",
   "pygments_lexer": "ipython3",
   "version": "3.8.5"
  }
 },
 "nbformat": 4,
 "nbformat_minor": 4
}

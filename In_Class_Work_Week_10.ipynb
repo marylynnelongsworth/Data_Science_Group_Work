{
 "cells": [
  {
   "cell_type": "markdown",
   "metadata": {},
   "source": [
    "# Week_10_Group_Work\n",
    "\n",
    "1. Write a function that calculates the dot product manually AND a function that calculates the cross product manually. Both should accept two vectors and perform that calculation. Be sure to use \"try\", \"except\", and error handling for basic issues that might occur.\n",
    "\n",
    "2. In a markdown sections in your notebook, explain what one hot encoding is and why we use it. Then, manually calculate a one hot encoding for the Belize_Airbnb_listings.csv neighborhood_group column. Note: manually means don't use scikitlearn or keras"
   ]
  },
  {
   "cell_type": "markdown",
   "metadata": {},
   "source": [
    "##  1a. Dot product manual calculation"
   ]
  },
  {
   "cell_type": "code",
   "execution_count": 1,
   "metadata": {},
   "outputs": [],
   "source": [
    "# Function that calculates the Dot Product Manually\n",
    "a = [2,6]\n",
    "b = [3,7]\n",
    "c = []\n",
    "\n",
    "def dot_prod(v1,v2):\n",
    "    for n1, n2 in zip(a, b): #<--- zip combines both lists [(2,3),(6,7)]\n",
    "        c.append(n1 * n2)\n",
    "\n",
    "    for i in range(len(c)):\n",
    "        for j in range(i+1,len(c)):\n",
    "            output = c[i]+c[j] \n",
    "    return output"
   ]
  },
  {
   "cell_type": "code",
   "execution_count": 2,
   "metadata": {},
   "outputs": [
    {
     "data": {
      "text/plain": [
       "48"
      ]
     },
     "execution_count": 2,
     "metadata": {},
     "output_type": "execute_result"
    }
   ],
   "source": [
    "dot_prod(a,b)"
   ]
  },
  {
   "cell_type": "code",
   "execution_count": 3,
   "metadata": {},
   "outputs": [
    {
     "data": {
      "text/plain": [
       "[(2, 3), (6, 7)]"
      ]
     },
     "execution_count": 3,
     "metadata": {},
     "output_type": "execute_result"
    }
   ],
   "source": [
    "list(zip(a,b))"
   ]
  },
  {
   "cell_type": "code",
   "execution_count": 4,
   "metadata": {},
   "outputs": [
    {
     "data": {
      "text/plain": [
       "48"
      ]
     },
     "execution_count": 4,
     "metadata": {},
     "output_type": "execute_result"
    }
   ],
   "source": [
    "# Olesia's Version\n",
    "\n",
    "def dotfunction(a,b):\n",
    "    total = 0\n",
    "    for i,n in zip(a,b):\n",
    "        dot = i*n\n",
    "        total = total + dot \n",
    "    return total\n",
    "        \n",
    "m = [2,6]\n",
    "c = [3,7]\n",
    "\n",
    "dotfunction(m,c)\n"
   ]
  },
  {
   "cell_type": "markdown",
   "metadata": {},
   "source": [
    "##  1b. Cross product manual calculation"
   ]
  },
  {
   "cell_type": "code",
   "execution_count": 13,
   "metadata": {},
   "outputs": [
    {
     "name": "stdout",
     "output_type": "stream",
     "text": [
      "[]\n"
     ]
    }
   ],
   "source": [
    "# Funtion that calculates Cross Product Manually <---- WHICH UTTERLY FAILED!!  Amanda's Code is much, much better!\n",
    "\n",
    "x = [10, 1, 3]\n",
    "y = [-2, 4, 4]\n",
    "\n",
    "a = []\n",
    "b = []\n",
    "c = []\n",
    "def cross_prod(x, y):\n",
    "    a = 0\n",
    "    b = 0\n",
    "    c = 0\n",
    "    for a in x():\n",
    "        for b in y():\n",
    "            c = a * b\n",
    "\n",
    "print (c)\n",
    "#Example: The cross product of a = (2,3,4) and b = (5,6,7)\n",
    "#cx = aybz − azby = 3×7 − 4×6 = −3\n",
    "#cy = azbx − axbz = 4×5 − 2×7 = 6\n",
    "#cz = axby − aybx = 2×6 − 3×5 = −3"
   ]
  },
  {
   "cell_type": "code",
   "execution_count": 19,
   "metadata": {},
   "outputs": [
    {
     "data": {
      "text/plain": [
       "array([ -8, -46,  -8])"
      ]
     },
     "execution_count": 19,
     "metadata": {},
     "output_type": "execute_result"
    }
   ],
   "source": [
    "# Amanda's Code\n",
    "import numpy as np\n",
    "\n",
    "def crossProd(v1, v2):\n",
    "    c1 = 0\n",
    "    c2 = 0\n",
    "    c3 = 0\n",
    "    try:\n",
    "        c1 = v1[1]*v2[2] - v1[2]*v2[1]\n",
    "        c2 = v1[2]*v2[0] - v1[0]*v2[2]\n",
    "        c3 = v1[1]*v2[2] - v1[2]*v2[1]\n",
    "            \n",
    "    except:\n",
    "        print('maybe vectors arent the same length')\n",
    "    \n",
    "    return np.array([c1, c2, c3])\n",
    "\n",
    "crossProd([10, 1, 3],[-2, 4, 4])\n"
   ]
  },
  {
   "cell_type": "markdown",
   "metadata": {},
   "source": [
    "## 2a. explain what one hot encoding is and why we use it.\n",
    "\n",
    "*  One hot encoding represents categorical variables a binary numbers/boolean style - present = 0 , not-present =1\n",
    "    *  Categorical values need to be mapped to integer values first\n",
    "    *  Then a binary vector that is the length of 2 is created for the two possible values 0 and 1\n",
    "        *  Example given on machinelearningmastery.com\n",
    "               *  Categories = red and green\n",
    "               *  Red label is encoded as 0, and is binary vector [1, 0]\n",
    "               *  Green label is encoded as 1, and is binary vector [0, 1]\n",
    "               *  for 'red', 'red', 'green' is represented by integer encoding 0, 0, 1\n",
    "                   *  One Hot encoding\n",
    "                       *  [1, 0]\n",
    "                       *  [1, 0]\n",
    "                       *  [0, 1]\n",
    "           \n",
    "*  Categorical data must be converted to numbers for machine learning algorithms to be able to work with them\n",
    "*  Converted Categorical Dta can also be sued to see if there is a natural relationship between variables. "
   ]
  },
  {
   "cell_type": "markdown",
   "metadata": {},
   "source": [
    "## 2b. Manually calculate a one hot encoding for the Belize_Airbnb_listings.csv neighborhood_group column"
   ]
  },
  {
   "cell_type": "code",
   "execution_count": null,
   "metadata": {},
   "outputs": [],
   "source": [
    "#the usual suspects\n",
    "import numpy as np\n",
    "import pandas as pd\n",
    "\n",
    "\n",
    "# pull in the csv file and data frame the Belize Airbnb listings\n",
    "belize_df = pd.read_csv(\"belize_airbnb_listings.csv\")\n",
    "belize_df.head()\n"
   ]
  },
  {
   "cell_type": "code",
   "execution_count": null,
   "metadata": {},
   "outputs": [],
   "source": [
    "neighb_group = belize_df.neighbourhood_group\n",
    "\n",
    "def unique(neighb_group):\n",
    "     \n",
    "    # insert the list to the set\n",
    "    list_set = set(neighb_group)\n",
    "    # convert the set to the list\n",
    "    unique_list = (list(list_set))\n",
    "    for x in unique_list:\n",
    "        print (x)\n",
    "\n",
    "unique(neighb_group)"
   ]
  },
  {
   "cell_type": "code",
   "execution_count": null,
   "metadata": {},
   "outputs": [],
   "source": [
    "pd.options.display.max_rows = 3000\n",
    "\n",
    "# Create North Group of Corozal and Orange Walk Column - Corozal = 0, Orange walk = 1\n",
    "# Create Central Group of Belize and Stann Creek Column\n",
    "# Create South Group of Cayo and Toledo Column\n",
    "\n",
    "# Add columns for neighborhood groups\n",
    "belize_df_hot = belize_df.assign(**{'north_neigh_group': np.nan, 'central_neigh_group':np.nan, 'south_neigh_group':np.nan})\n",
    "\n",
    "# Set north_neigh_group as Corozal = 0, Orange Walk = 1 or leave NaN\n",
    "belize_df_hot.loc[belize_df_hot.neighbourhood_group == 'Corozal',\"north_neigh_group\"] = 0\n",
    "belize_df_hot.loc[belize_df_hot.neighbourhood_group == 'Orange Walk',\"north_neigh_group\"] = 1\n",
    "\n",
    "# Set central_neigh_group as Belize = 0, Stann Creek = 1 or leave NaN\n",
    "belize_df_hot.loc[belize_df_hot.neighbourhood_group == 'Belize',\"central_neigh_group\"] = 0\n",
    "belize_df_hot.loc[belize_df_hot.neighbourhood_group == 'Stann Creek',\"central_neigh_group\"] = 1\n",
    "\n",
    "# Set south_neigh_group as Cayo = 0, Toledo = or leave NaN\n",
    "belize_df_hot.loc[belize_df_hot.neighbourhood_group == 'Cayo',\"south_neigh_group\"] = 0\n",
    "belize_df_hot.loc[belize_df_hot.neighbourhood_group == 'Toledo',\"south_neigh_group\"] = 1\n",
    "\n",
    "belize_df_hot\n",
    "belize_df_hot[['neighbourhood_group', 'north_neigh_group','central_neigh_group', 'south_neigh_group']]"
   ]
  }
 ],
 "metadata": {
  "kernelspec": {
   "display_name": "Python 3",
   "language": "python",
   "name": "python3"
  },
  "language_info": {
   "codemirror_mode": {
    "name": "ipython",
    "version": 3
   },
   "file_extension": ".py",
   "mimetype": "text/x-python",
   "name": "python",
   "nbconvert_exporter": "python",
   "pygments_lexer": "ipython3",
   "version": "3.8.5"
  }
 },
 "nbformat": 4,
 "nbformat_minor": 4
}

{
 "cells": [
  {
   "cell_type": "markdown",
   "metadata": {},
   "source": [
    "1) Take the follwing list and create a new list from the square of each value.\n",
    "  * og_list = [2, 4, 6, 8, 10, 12, 14]\n",
    "\n",
    "2) Take the same list from the previous question and create a new list but where each value is 2/3\n",
    "\n",
    "3) Write a list comprehension to lowercase all the keys in teh below dictionary. The data represents how many pounds of each fruit a canning company is ordering.  Why migh you use a list comprehension to do something like this?\n",
    "   * dict = {\"Apples\": 1500, \"Cranberries\": 2000, \"Pears\": 2500, \"Cherries\": 1600, \"Plums\": 2400, \"Peaches\": 13600, \"Oranges\": 7}"
   ]
  },
  {
   "cell_type": "code",
   "execution_count": null,
   "metadata": {},
   "outputs": [],
   "source": []
  },
  {
   "cell_type": "code",
   "execution_count": 1,
   "metadata": {},
   "outputs": [
    {
     "name": "stdout",
     "output_type": "stream",
     "text": [
      "[4, 16, 36, 64, 100, 144, 196]\n"
     ]
    }
   ],
   "source": [
    "# 1) Take the follwing list and create a new list from the square of each value.\n",
    "# * og_list = [2, 4, 6, 8, 10, 12, 14]\n",
    "\n",
    "og_list = [2, 4, 6, 8, 10, 12, 14]\n",
    "\n",
    "sq_list = [n ** 2 for n in og_list]\n",
    "\n",
    "print(sq_list)"
   ]
  },
  {
   "cell_type": "code",
   "execution_count": 2,
   "metadata": {},
   "outputs": [
    {
     "name": "stdout",
     "output_type": "stream",
     "text": [
      "[1.3333333333333333, 2.6666666666666665, 4.0, 5.333333333333333, 6.666666666666667, 8.0, 9.333333333333334]\n"
     ]
    }
   ],
   "source": [
    "# 2) Take the same list from the previous question and create a new list but where each value is 2/3\n",
    "\n",
    "og_list = [2, 4, 6, 8, 10, 12, 14]\n",
    "\n",
    "two_third_list = [n * 2/3 for n in og_list]\n",
    "\n",
    "print(two_third_list)\n"
   ]
  },
  {
   "cell_type": "code",
   "execution_count": 10,
   "metadata": {},
   "outputs": [
    {
     "name": "stdout",
     "output_type": "stream",
     "text": [
      "{'apples': 1500, 'cranberries': 2000, 'pears': 2500, 'cherries': 1600, 'plums': 2400, 'peaches': 13600, 'oranges': 7}\n"
     ]
    }
   ],
   "source": [
    "# 3) Write a list comprehension to lowercase all the keys in th below dictionary. \n",
    "#    The data represents how many pounds of each fruit a canning company is ordering.  \n",
    "#    Why might you use a list comprehension to do something like this?\n",
    "#   * dict = {\"Apples\": 1500, \"Cranberries\": 2000, \"Pears\": 2500, \"Cherries\": 1600, \"Plums\": 2400, \"Peaches\": 13600, \"Oranges\": 7}\n",
    "\n",
    "og_dict = {\"Apples\": 1500, \n",
    "        \"Cranberries\": 2000, \n",
    "        \"Pears\": 2500, \n",
    "        \"Cherries\": 1600, \n",
    "        \"Plums\": 2400, \n",
    "        \"Peaches\": 13600, \n",
    "        \"Oranges\": 7}\n",
    "\n",
    "lc_dict ={k.lower(): v for k, v in og_dict.items()}\n",
    "\n",
    "print(lc_dict)\n",
    "\n",
    "# A list comprehension fixes ALL of the keys, and at a faster rate than manually going in"
   ]
  }
 ],
 "metadata": {
  "kernelspec": {
   "display_name": "Python 3",
   "language": "python",
   "name": "python3"
  },
  "language_info": {
   "codemirror_mode": {
    "name": "ipython",
    "version": 3
   },
   "file_extension": ".py",
   "mimetype": "text/x-python",
   "name": "python",
   "nbconvert_exporter": "python",
   "pygments_lexer": "ipython3",
   "version": "3.8.5"
  }
 },
 "nbformat": 4,
 "nbformat_minor": 4
}

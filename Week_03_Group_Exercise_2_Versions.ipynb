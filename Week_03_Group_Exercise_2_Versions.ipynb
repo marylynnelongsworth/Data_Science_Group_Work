{
 "cells": [
  {
   "cell_type": "markdown",
   "metadata": {},
   "source": [
    "### 1st Version Without Def & With User Input"
   ]
  },
  {
   "cell_type": "code",
   "execution_count": 4,
   "metadata": {},
   "outputs": [
    {
     "name": "stdout",
     "output_type": "stream",
     "text": [
      "Enter 1st integer: 3\n",
      "Enter 2nd integer: -3\n",
      "a + b =  zero\n",
      "a - b =  6\n",
      "a * b =  -9\n"
     ]
    }
   ],
   "source": [
    "# Create a function that accepts two values, a and b. Add code to print three lines where\n",
    "#     The first line contains the sum of the two numbers\n",
    "#     The second line contains the difference of the two numbers (first-second)\n",
    "#     The third line contains the product of the two numbers\n",
    "\n",
    "# Conditions:\n",
    "#     If any of the results are zero, print \"zero\" as the result, instead of 0\n",
    "\n",
    "# Note: be sure to include useful info printed out, not just the result\n",
    "\n",
    "    # Request input of 2 integers from the user\n",
    "a = int(input(\"Enter 1st integer: \"))\n",
    "b = int(input(\"Enter 2nd integer: \"))\n",
    "\n",
    "        # Sum of the two integers provide\n",
    "s= (a + b)\n",
    "if s == 0:\n",
    "    s = \"zero\"\n",
    "print(\"a + b = \", s)\n",
    "        \n",
    "        # Difference of the two integers provided \n",
    "d = (a - b)\n",
    "if d == 0:\n",
    "    d = \"zero\"\n",
    "print(\"a - b = \", d)\n",
    "\n",
    "        # Product of the two integers provided\n",
    "p = (a * b)\n",
    "if p == 0:\n",
    "    p = \"zero\"\n",
    "print(\"a * b = \", p)"
   ]
  },
  {
   "cell_type": "markdown",
   "metadata": {},
   "source": [
    "### 2nd Version With Def & Without User Input - From Class"
   ]
  },
  {
   "cell_type": "code",
   "execution_count": null,
   "metadata": {},
   "outputs": [],
   "source": [
    "def calc(a, b):\n",
    "    if type(a) is int and type(b) is int:\n",
    "        \n",
    "        # Sum of the two integers provided\n",
    "        s = (a + b)\n",
    "        if s == 0:\n",
    "            s = \"zero\"\n",
    "        print(\"a + b = \", s)\n",
    "        \n",
    "        # Difference of the two integers provided \n",
    "        d = (a - b)\n",
    "        if d == 0:\n",
    "            d = \"zero\"\n",
    "        print(\"a - b = \", d)\n",
    "\n",
    "        # Product of the two integers provided\n",
    "        p = (a * b)\n",
    "        if p == 0:\n",
    "            p = \"zero\"\n",
    "        print(\"a * b = \", p)\n",
    "        \n",
    "calc(3,5)"
   ]
  }
 ],
 "metadata": {
  "kernelspec": {
   "display_name": "Python 3",
   "language": "python",
   "name": "python3"
  },
  "language_info": {
   "codemirror_mode": {
    "name": "ipython",
    "version": 3
   },
   "file_extension": ".py",
   "mimetype": "text/x-python",
   "name": "python",
   "nbconvert_exporter": "python",
   "pygments_lexer": "ipython3",
   "version": "3.8.5"
  }
 },
 "nbformat": 4,
 "nbformat_minor": 4
}

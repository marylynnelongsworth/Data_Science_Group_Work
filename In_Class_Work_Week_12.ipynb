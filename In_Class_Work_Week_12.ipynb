{
 "cells": [
  {
   "cell_type": "markdown",
   "metadata": {},
   "source": [
    "1. Write a Python program to rearrange positive and negative numbers in a given list using Lambda and map()\n",
    "\n",
    "Sample output:\n",
    "    original_list = [-1,-2,-3,4,-5,6,-7,8,-9,10,-11,12]\n",
    "    resulting_list = [2,4,6,8,10,12,-11,-7,-5,-3,-1]"
   ]
  },
  {
   "cell_type": "code",
   "execution_count": 1,
   "metadata": {},
   "outputs": [
    {
     "name": "stdout",
     "output_type": "stream",
     "text": [
      "[2, 4, 6, 8, 10, 12, -11, -9, -7, -5, -3, -1]\n"
     ]
    }
   ],
   "source": [
    "original_list = [-1,2,-3,4,-5,6,-7,8,-9,10,-11,12]\n",
    "\n",
    "resulting_list = list(filter(lambda x: x>0, original_list)) + sorted(list(filter(lambda x: x<0, original_list)))\n",
    "\n",
    "print(resulting_list)"
   ]
  },
  {
   "cell_type": "markdown",
   "metadata": {},
   "source": [
    "2. Create a new dataframe using Week_11 temperature.csv from last class. It should have datetime column and one of the cities. Create a new boolean column called is_freezng that indicates if the temperature is at or below freezing. Use a lambda to create this column. Is there a better way to do this than with a lambda?"
   ]
  },
  {
   "cell_type": "code",
   "execution_count": 34,
   "metadata": {},
   "outputs": [
    {
     "data": {
      "text/html": [
       "<div>\n",
       "<style scoped>\n",
       "    .dataframe tbody tr th:only-of-type {\n",
       "        vertical-align: middle;\n",
       "    }\n",
       "\n",
       "    .dataframe tbody tr th {\n",
       "        vertical-align: top;\n",
       "    }\n",
       "\n",
       "    .dataframe thead th {\n",
       "        text-align: right;\n",
       "    }\n",
       "</style>\n",
       "<table border=\"1\" class=\"dataframe\">\n",
       "  <thead>\n",
       "    <tr style=\"text-align: right;\">\n",
       "      <th></th>\n",
       "      <th>datetime</th>\n",
       "      <th>Phoenix</th>\n",
       "      <th>is_freezing</th>\n",
       "    </tr>\n",
       "  </thead>\n",
       "  <tbody>\n",
       "    <tr>\n",
       "      <th>19778</th>\n",
       "      <td>2015-01-03 14:00:00</td>\n",
       "      <td>266.059000</td>\n",
       "      <td>True</td>\n",
       "    </tr>\n",
       "    <tr>\n",
       "      <th>19658</th>\n",
       "      <td>2014-12-29 14:00:00</td>\n",
       "      <td>266.144333</td>\n",
       "      <td>True</td>\n",
       "    </tr>\n",
       "    <tr>\n",
       "      <th>19777</th>\n",
       "      <td>2015-01-03 13:00:00</td>\n",
       "      <td>266.181000</td>\n",
       "      <td>True</td>\n",
       "    </tr>\n",
       "    <tr>\n",
       "      <th>19657</th>\n",
       "      <td>2014-12-29 13:00:00</td>\n",
       "      <td>266.391667</td>\n",
       "      <td>True</td>\n",
       "    </tr>\n",
       "    <tr>\n",
       "      <th>19729</th>\n",
       "      <td>2015-01-01 13:00:00</td>\n",
       "      <td>266.679333</td>\n",
       "      <td>True</td>\n",
       "    </tr>\n",
       "    <tr>\n",
       "      <th>...</th>\n",
       "      <td>...</td>\n",
       "      <td>...</td>\n",
       "      <td>...</td>\n",
       "    </tr>\n",
       "    <tr>\n",
       "      <th>41365</th>\n",
       "      <td>2017-06-21 01:00:00</td>\n",
       "      <td>321.150000</td>\n",
       "      <td>False</td>\n",
       "    </tr>\n",
       "    <tr>\n",
       "      <th>32578</th>\n",
       "      <td>2016-06-19 22:00:00</td>\n",
       "      <td>321.220000</td>\n",
       "      <td>False</td>\n",
       "    </tr>\n",
       "    <tr>\n",
       "      <th>0</th>\n",
       "      <td>2012-10-01 12:00:00</td>\n",
       "      <td>NaN</td>\n",
       "      <td>False</td>\n",
       "    </tr>\n",
       "    <tr>\n",
       "      <th>3859</th>\n",
       "      <td>2013-03-11 07:00:00</td>\n",
       "      <td>NaN</td>\n",
       "      <td>False</td>\n",
       "    </tr>\n",
       "    <tr>\n",
       "      <th>3860</th>\n",
       "      <td>2013-03-11 08:00:00</td>\n",
       "      <td>NaN</td>\n",
       "      <td>False</td>\n",
       "    </tr>\n",
       "  </tbody>\n",
       "</table>\n",
       "<p>45253 rows × 3 columns</p>\n",
       "</div>"
      ],
      "text/plain": [
       "                  datetime     Phoenix  is_freezing\n",
       "19778  2015-01-03 14:00:00  266.059000         True\n",
       "19658  2014-12-29 14:00:00  266.144333         True\n",
       "19777  2015-01-03 13:00:00  266.181000         True\n",
       "19657  2014-12-29 13:00:00  266.391667         True\n",
       "19729  2015-01-01 13:00:00  266.679333         True\n",
       "...                    ...         ...          ...\n",
       "41365  2017-06-21 01:00:00  321.150000        False\n",
       "32578  2016-06-19 22:00:00  321.220000        False\n",
       "0      2012-10-01 12:00:00         NaN        False\n",
       "3859   2013-03-11 07:00:00         NaN        False\n",
       "3860   2013-03-11 08:00:00         NaN        False\n",
       "\n",
       "[45253 rows x 3 columns]"
      ]
     },
     "execution_count": 34,
     "metadata": {},
     "output_type": "execute_result"
    }
   ],
   "source": [
    "import pandas as pd\n",
    "df = pd.read_csv(\"../Week_11/weather/temperature.csv\")\n",
    "df1 = df.loc[:, ('datetime','Phoenix')]\n",
    "df1['is_freezing'] = df1.apply(lambda row: True if row.Phoenix  <= 273.15 else False, axis = 1)\n",
    "\n",
    "df1.sort_values(by=['Phoenix'])\n",
    "\n",
    "# I honestly have no idea if there is a better way to do this than with lambda at the moment."
   ]
  },
  {
   "cell_type": "markdown",
   "metadata": {},
   "source": [
    "3. BONUS: if you still have time, try to do a pivot of the data in question 2 so you have the hourly data for all the cities and a flaf for if it's freezing."
   ]
  }
 ],
 "metadata": {
  "kernelspec": {
   "display_name": "Python 3",
   "language": "python",
   "name": "python3"
  },
  "language_info": {
   "codemirror_mode": {
    "name": "ipython",
    "version": 3
   },
   "file_extension": ".py",
   "mimetype": "text/x-python",
   "name": "python",
   "nbconvert_exporter": "python",
   "pygments_lexer": "ipython3",
   "version": "3.8.5"
  }
 },
 "nbformat": 4,
 "nbformat_minor": 4
}
